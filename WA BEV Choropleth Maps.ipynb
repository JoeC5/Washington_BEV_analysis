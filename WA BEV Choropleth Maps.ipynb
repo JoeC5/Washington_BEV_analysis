{
 "cells": [
  {
   "cell_type": "markdown",
   "id": "73be6a59",
   "metadata": {},
   "source": [
    "# Map(s) of BEV concentration in Washington State"
   ]
  },
  {
   "cell_type": "markdown",
   "id": "05fdefed",
   "metadata": {},
   "source": [
    "## In this notebook I walk through the process of building a few Choropleth maps that highlight the \"population\" of battery electric vehicles in the state by county and by city within a few select counties."
   ]
  },
  {
   "cell_type": "markdown",
   "id": "9bfe1f77",
   "metadata": {},
   "source": [
    "### Within Jupyter notebooks the Geopandas library is not already installed. I am installing through !pip install"
   ]
  },
  {
   "cell_type": "code",
   "execution_count": null,
   "id": "95755c54",
   "metadata": {},
   "outputs": [],
   "source": [
    "#install geopandas \n",
    "\n",
    "!pip install geopandas"
   ]
  },
  {
   "cell_type": "markdown",
   "id": "65c573f3",
   "metadata": {},
   "source": [
    "### Need to import os model. this provides a way to interact with the operating sytem allowing access to environment variables. In this example we are using shapefiles( .shx) to build a map. Below we set the SHAPE_RESTORE_SHX to Yes emabling the system to restore/read the .shx files."
   ]
  },
  {
   "cell_type": "code",
   "execution_count": null,
   "id": "fb7e3137",
   "metadata": {},
   "outputs": [],
   "source": [
    "## import os. SHAPE_RESTORE_SHX is a variable related to shapefilehandling. Shapefiles often come with an auxiliary file \n",
    "## with the extentsion .shx (shape file index). This file contains index data that helps in restoring or using the geometry\n",
    "## information effectively (per ChatGT)\n",
    "\n",
    "import os\n",
    "os.environ[\"SHAPE_RESTORE_SHX\"] = \"YES\""
   ]
  },
  {
   "cell_type": "markdown",
   "id": "676da292",
   "metadata": {},
   "source": [
    "### Import libraries and the files we will be working with. Create a main data frame of battery electric vehicles (BEV). Create a path to the map(shapefile) to leverage when building the map highlighting the BEV populations by county. I found map (and other maps) of Washington state broken out by counties through Chat GPT, MS Copilot, and Bing. Note - the map file comes in a zip file. Download the entire zipfile and save unzipped. Though you will directly save the .shp file to notebook, the other files are needed via GeoPandas: \n",
    "### 1) .shp (Shapefile): This file contains the geometry of the features (e.g., points, lines, polygons).\n",
    "### 2) .shx (Shape Index file): This file is an index that allows software to quickly find features within the .shp file\n",
    "### 3)  .dbf (Attribute Table): This file stores the attribute data for each feature in a tabular format"
   ]
  },
  {
   "cell_type": "code",
   "execution_count": null,
   "id": "f7ae1b52",
   "metadata": {},
   "outputs": [],
   "source": [
    "#Import libraries\n",
    "import pandas as pd\n",
    "import matplotlib.pyplot as plt\n",
    "import geopandas as gpd\n",
    "\n",
    "#pull in data file and map file\n",
    "df = pd.read_csv(r'C:\\Users\\v-joecamp\\OneDrive - Microsoft\\Desktop\\Python Beginner Projects\\EV stats\\Electric_Vehicle_Population_Data_09292024.csv')\n",
    "shape_path = r'C:\\Users\\v-joecamp\\OneDrive - Microsoft\\Desktop\\Python Beginner Projects\\EV stats\\tl_2016_53_cousub.shp'"
   ]
  },
  {
   "cell_type": "code",
   "execution_count": null,
   "id": "f8fe6081",
   "metadata": {},
   "outputs": [],
   "source": [
    "## let's take look at the column names the data frame and the map's shapefile\n",
    "\n",
    "print(df.columns)\n",
    "print(shape_path.columns)"
   ]
  },
  {
   "cell_type": "markdown",
   "id": "69f443aa",
   "metadata": {},
   "source": [
    "### The current dataframe contains both battery electric vehicles (BEV) and plug in hybrid cars. I want to make a dataframe of just BEV. Then look at the column information on the new dataframe to understand naming convention for each column, data types and count for each column. "
   ]
  },
  {
   "cell_type": "code",
   "execution_count": null,
   "id": "add016b2",
   "metadata": {},
   "outputs": [],
   "source": [
    "## creating a BEV dataframe\n",
    "\n",
    "bev_df = df[df['Electric Vehicle Type'] == 'Battery Electric Vehicle (BEV)']\n",
    "bev_df.info()"
   ]
  },
  {
   "cell_type": "markdown",
   "id": "16b5ff49",
   "metadata": {},
   "source": [
    "### I want to build a BEV dataframe by county - use the groupby function. This dataframe will show the number of BEVs per county which will be reflected in the Choropleth map once built.  "
   ]
  },
  {
   "cell_type": "code",
   "execution_count": null,
   "id": "396168ff",
   "metadata": {},
   "outputs": [],
   "source": [
    "#a list of the counties and COUNTYFP in Washington State and count of BEV cars in each. COUNTYFP means County Federal \n",
    "## Information Processing Standards (FIPS)code. This is code for each county in the U.S. by the Census Bureau.  I added the \n",
    "## COUNTYFP column to the original data set. COUNTYFP will be the \"key\" between df_bev_county and the shape file. \n",
    "\n",
    "df_bev_county = bev_df.groupby(['County','COUNTYFP']).size().reset_index(name='Count')\n",
    "\n",
    "df_bev_county.head()"
   ]
  },
  {
   "cell_type": "markdown",
   "id": "ac6a5b7a",
   "metadata": {},
   "source": [
    "### Build a shape geo dataframe via geopandas and take a look at the information in the COUNTYFP fields to confirm a match with the same column in df_bev_county"
   ]
  },
  {
   "cell_type": "code",
   "execution_count": null,
   "id": "1163419f",
   "metadata": {},
   "outputs": [],
   "source": [
    "## Setting up the shape geo dataframe  and then printing the COUNTYFP columns to confirm the numbers are the same as the \n",
    "## COUNTYFP column in df_bev_county\n",
    "\n",
    "shape = gpd.read_file(shape_path)\n",
    "print(shape['COUNTYFP'])"
   ]
  },
  {
   "cell_type": "markdown",
   "id": "f073264d",
   "metadata": {},
   "source": [
    "### Look at the data types of the shape df - specifically the data type of the COUNTYFP column. This needs to be the same data type as those in the same column from df_bev_county. As you can see the COUNTFP data type is \"object\" - this needs to be changed to int. "
   ]
  },
  {
   "cell_type": "code",
   "execution_count": null,
   "id": "9eddfef0",
   "metadata": {},
   "outputs": [],
   "source": [
    "## Look t the column names, count, and datatypes of each column. Notice that COUNTYFP is an object. As this is a key, this \n",
    "## data type needs to be changed to an int\n",
    "\n",
    "shape.info()"
   ]
  },
  {
   "cell_type": "markdown",
   "id": "53f6c53e",
   "metadata": {},
   "source": [
    "### This block of code changes the data type in column COUNTYFP from object to int. Using the .info() function we can confirm the change was made. "
   ]
  },
  {
   "cell_type": "code",
   "execution_count": null,
   "id": "68b3d40a",
   "metadata": {},
   "outputs": [],
   "source": [
    "## changing the data type of the COUNTYFP column from an object to int. Now shape geo df and df_bev_county can \"talk\" to \n",
    "##each other. \n",
    "\n",
    "shape['COUNTYFP'] = shape['COUNTYFP'].astype(int)\n",
    "shape.info()"
   ]
  },
  {
   "cell_type": "markdown",
   "id": "ea127cd1",
   "metadata": {},
   "source": [
    "### I want to get a final look at the column names for each data frame.  "
   ]
  },
  {
   "cell_type": "code",
   "execution_count": null,
   "id": "f487a06f",
   "metadata": {},
   "outputs": [],
   "source": [
    "## Printing the column names for shape geo df and for df_bev_county\n",
    "\n",
    "print(shape.columns)\n",
    "print(df_bev_county.columns)"
   ]
  },
  {
   "cell_type": "markdown",
   "id": "0facabf3",
   "metadata": {},
   "source": [
    "### This block of code builds the data frame that will be used to build the Choropleth map. I am using the exisitng shape geo data frame and merging (adding) columns from df_bev_county. All based on the key column COUNTYFP. "
   ]
  },
  {
   "cell_type": "code",
   "execution_count": null,
   "id": "b54cf1cc",
   "metadata": {},
   "outputs": [],
   "source": [
    "##merging the shape Geo df and the bev.county dataframe. Had to add the COUNTYFP code to the \"master dataframe\" so the merge \n",
    "##function had a \"key\" to work off of. The columns County and Count will be added to the shape file. \n",
    "\n",
    "shape= pd.merge(\n",
    "    left=shape,\n",
    "    right=df_bev_county,\n",
    "    left_on='COUNTYFP',\n",
    "    right_on='COUNTYFP',\n",
    "    how='left'\n",
    ")\n",
    "\n",
    "print(shape.columns)"
   ]
  },
  {
   "cell_type": "markdown",
   "id": "a70555e3",
   "metadata": {},
   "source": [
    "### Useing the head() function I want to confirm the two data frames are merged into one. "
   ]
  },
  {
   "cell_type": "code",
   "execution_count": null,
   "id": "2d3aa96d",
   "metadata": {},
   "outputs": [],
   "source": [
    "## a quick look at the merged file. \n",
    "\n",
    "shape.head()"
   ]
  },
  {
   "cell_type": "markdown",
   "id": "7c5edc47",
   "metadata": {},
   "source": [
    "### Creating the initial map. I don't like the way this map is broken out by the cities within each county. We will clean the map up but I did find a better, cleaner map visual which is below.  "
   ]
  },
  {
   "cell_type": "code",
   "execution_count": null,
   "id": "c2223745",
   "metadata": {},
   "outputs": [],
   "source": [
    "##plotting the map including a legend. The ax line of code creates a plot of the boundaries of the geometries in the \n",
    "## shape GeoDataFrame\n",
    "## The second line of code plots the geometries on the exisiting axis (ax). The \"Count\" column is used to color \n",
    "## the geometries\n",
    "## I don't like the initial look of the map as each county is broken down by cities. It is hard to distinguish counties.This\n",
    "## is resolved with a different map below. \n",
    "\n",
    "ax=shape.boundary.plot(edgecolor='black', linewidth=0.4, figsize=(12,6))\n",
    "shape.plot(ax=ax, column='Count', legend=True, cmap='RdYlBu', legend_kwds={'shrink':1.0})\n",
    "\n",
    "plt.show()"
   ]
  },
  {
   "cell_type": "markdown",
   "id": "e55c4e96",
   "metadata": {},
   "source": [
    "### A \"cleaned up\" version where a title is given, the black outline (spine) is removed, and the x and y axis are removed. Additionally I changed the color map to see if the visual was better and easier to \"read\". "
   ]
  },
  {
   "cell_type": "code",
   "execution_count": null,
   "id": "4bd4a9dd",
   "metadata": {},
   "outputs": [],
   "source": [
    "## This is the final map removing the text for the x and y axis, removing the black line (spine) from around the map, and\n",
    "## adding a title to the map. \n",
    "\n",
    "ax=shape.boundary.plot(edgecolor='black', linewidth=0.4, figsize=(12,6))\n",
    "shape.plot(ax=ax, column='Count', legend=True, cmap='Spectral', legend_kwds={'shrink':1.0})\n",
    "\n",
    "##this following gets rid of the text for the x and y axis\n",
    "ax.get_xaxis().set_visible(False)\n",
    "ax.get_yaxis().set_visible(False)\n",
    "\n",
    "##getting rid of the black \"spines\" around the map\n",
    "for edge in ['right', 'left', 'bottom', 'top']:\n",
    "    ax.spines[edge].set_visible(False)\n",
    "\n",
    "##setting a title\n",
    "ax.set_title('Battery Electric Vehicles by County', size=16, weight='bold')\n",
    "\n",
    "plt.show()"
   ]
  },
  {
   "cell_type": "markdown",
   "id": "0739deff",
   "metadata": {},
   "source": [
    "## As referenced above I don't like the busyness/messiness of the map(s) above. I found a map of Washington state that outlines the counties. Below is how I added this to the notebook. "
   ]
  },
  {
   "cell_type": "markdown",
   "id": "14c67a73",
   "metadata": {},
   "source": [
    "### Adding the \"new\" map to this notebook"
   ]
  },
  {
   "cell_type": "code",
   "execution_count": null,
   "id": "ce14dd9a",
   "metadata": {},
   "outputs": [],
   "source": [
    "shape_path2 = r'C:\\Users\\v-joecamp\\OneDrive - Microsoft\\Desktop\\Python Beginner Projects\\EV stats\\WA_County_Boundaries.shp'"
   ]
  },
  {
   "cell_type": "markdown",
   "id": "59d8967a",
   "metadata": {},
   "source": [
    "### Create a geopandas dataframe and look at the columns and data to understand how and what to use to merge the df_bev_counties data frame with this one. "
   ]
  },
  {
   "cell_type": "code",
   "execution_count": null,
   "id": "ef9f3d69",
   "metadata": {},
   "outputs": [],
   "source": [
    "## Used GeoPandas to read the file and create a geo df named shape2. Looking through the column names and corresponding data\n",
    "## the column JURISDIC_2 listed each county. I will use this column and the County column from df_bev_county to merge the \n",
    "## two dataframes. \n",
    "\n",
    "shape2 = gpd.read_file(shape_path2)\n",
    "\n",
    "print(shape2)"
   ]
  },
  {
   "cell_type": "markdown",
   "id": "8b960f3e",
   "metadata": {},
   "source": [
    "### Reviewing the columns and data types of this geo df I see that the JURISDIC_2 column of county names is the same data type (object) as the County column from df_bev_county. This is how I merge the two data frames. "
   ]
  },
  {
   "cell_type": "code",
   "execution_count": null,
   "id": "27337fe4",
   "metadata": {},
   "outputs": [],
   "source": [
    "## looking at the data types for each column of the shape2 geo dataframe. Note that the data type of JURISDIC_2 is object. \n",
    "## This is the same data type for the column County from df_bev_county\n",
    "\n",
    "shape2.info()"
   ]
  },
  {
   "cell_type": "markdown",
   "id": "34e6a925",
   "metadata": {},
   "source": [
    "### Merging the df_bev_county dataframe into the shape2 geo dataframe. Tehn look columns to confirm merge succeeded. "
   ]
  },
  {
   "cell_type": "code",
   "execution_count": null,
   "id": "f6a99283",
   "metadata": {},
   "outputs": [],
   "source": [
    "#Merging shape2 geo data frame and df_bev_column\n",
    "\n",
    "shape2= pd.merge(\n",
    "    left=shape2,\n",
    "    right=df_bev_county,\n",
    "    left_on='JURISDIC_2',\n",
    "    right_on='County',\n",
    "    how='left'\n",
    ")\n",
    "\n",
    "print(shape.columns)"
   ]
  },
  {
   "cell_type": "markdown",
   "id": "ebe0f38c",
   "metadata": {},
   "source": [
    "### Take a quick look at the new geo data frame"
   ]
  },
  {
   "cell_type": "code",
   "execution_count": null,
   "id": "46948fe8",
   "metadata": {},
   "outputs": [],
   "source": [
    "shape2.head()"
   ]
  },
  {
   "cell_type": "markdown",
   "id": "217cbce7",
   "metadata": {},
   "source": [
    "### Build an initial map. This looks so much better and easier to read- uncluttered"
   ]
  },
  {
   "cell_type": "code",
   "execution_count": null,
   "id": "a02c23b4",
   "metadata": {},
   "outputs": [],
   "source": [
    "##Leveraging the map plotting code from above - plotting the map including a legend. \n",
    "\n",
    "ax=shape2.boundary.plot(edgecolor='black', linewidth=0.4, figsize=(12,6))\n",
    "shape2.plot(ax=ax, column='Count', legend=True, cmap='RdYlBu', legend_kwds={'shrink':1.0})\n",
    "\n",
    "plt.show()"
   ]
  },
  {
   "cell_type": "markdown",
   "id": "fffe4946",
   "metadata": {},
   "source": [
    "### Final map - removed the spine, removed the x and y axis, and added a title. "
   ]
  },
  {
   "cell_type": "code",
   "execution_count": null,
   "id": "bdf84fed",
   "metadata": {},
   "outputs": [],
   "source": [
    "## Final map\n",
    "\n",
    "ax=shape2.boundary.plot(edgecolor='black', linewidth=0.4, figsize=(12,6))\n",
    "shape2.plot(ax=ax, column='Count', legend=True, cmap='RdYlBu', legend_kwds={'shrink':1.0})\n",
    "\n",
    "##this following gets rid of the text for the x and y axis\n",
    "ax.get_xaxis().set_visible(False)\n",
    "ax.get_yaxis().set_visible(False)\n",
    "\n",
    "##getting rid of the black \"spines\" around the map\n",
    "for edge in ['right', 'left', 'bottom', 'top']:\n",
    "    ax.spines[edge].set_visible(False)\n",
    "\n",
    "##setting a title\n",
    "ax.set_title('Battery Electric Vehicles by County', size=16, weight='bold')\n",
    "\n",
    "plt.show()"
   ]
  }
 ],
 "metadata": {
  "kernelspec": {
   "display_name": "Python 3 (ipykernel)",
   "language": "python",
   "name": "python3"
  },
  "language_info": {
   "codemirror_mode": {
    "name": "ipython",
    "version": 3
   },
   "file_extension": ".py",
   "mimetype": "text/x-python",
   "name": "python",
   "nbconvert_exporter": "python",
   "pygments_lexer": "ipython3",
   "version": "3.11.5"
  }
 },
 "nbformat": 4,
 "nbformat_minor": 5
}
